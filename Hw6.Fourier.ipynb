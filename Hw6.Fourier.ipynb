{
 "cells": [
  {
   "cell_type": "markdown",
   "metadata": {},
   "source": [
    "# Преобразование Фурье"
   ]
  },
  {
   "cell_type": "code",
   "execution_count": 38,
   "metadata": {},
   "outputs": [],
   "source": [
    "import numpy as np\n",
    "import matplotlib.pyplot as plt\n",
    "\n",
    "\n",
    "#x = np.linspace(0, np.pi, 100)\n",
    "#def x_n(N):\n",
    "#    x = np.linspace(0, 10, N)\n",
    "#    f = np.cos(3*x)\n",
    "#    return f\n",
    "\n",
    "def dft(x):\n",
    "    t = []\n",
    "    N = len(x)\n",
    "    for k in range(N):\n",
    "        a = 0\n",
    "        for n in range(N):\n",
    "            a += x[n] * np.exp(-2j*np.pi * k *n*(1/N))\n",
    "        t.append(a)\n",
    "    return t\n",
    "\n",
    "\n",
    " "
   ]
  },
  {
   "cell_type": "code",
   "execution_count": 36,
   "metadata": {},
   "outputs": [
    {
     "name": "stdout",
     "output_type": "stream",
     "text": [
      "6.74 s ± 262 ms per loop (mean ± std. dev. of 7 runs, 1 loop each)\n",
      "4.93 µs ± 184 ns per loop (mean ± std. dev. of 7 runs, 100000 loops each)\n"
     ]
    }
   ],
   "source": [
    "N = 100\n",
    "np.allclose(dft(x), np.fft.fft(x))\n",
    "%timeit dft(x)\n",
    "%timeit np.fft.fft(x)"
   ]
  },
  {
   "cell_type": "code",
   "execution_count": null,
   "metadata": {},
   "outputs": [],
   "source": [
    "def idft(t):\n",
    "    x = []\n",
    "    N = len(t)\n",
    "    for n in range(N):\n",
    "        a = 0\n",
    "        for k in range(N):\n",
    "            a += t[k]*np.exp(2j*np.pi*k*n*(1/N))\n",
    "        a /= N\n",
    "        x.append(a)\n",
    "    return x"
   ]
  },
  {
   "cell_type": "code",
   "execution_count": 37,
   "metadata": {},
   "outputs": [
    {
     "name": "stdout",
     "output_type": "stream",
     "text": [
      "5.56 s ± 544 ms per loop (mean ± std. dev. of 7 runs, 1 loop each)\n",
      "6.16 µs ± 1.62 µs per loop (mean ± std. dev. of 7 runs, 100000 loops each)\n"
     ]
    }
   ],
   "source": [
    "np.allclose(idft((x)), np.fft.ifft(x))\n",
    "%timeit idft(x)\n",
    "%timeit np.fft.fft(x)"
   ]
  },
  {
   "cell_type": "code",
   "execution_count": 42,
   "metadata": {},
   "outputs": [
    {
     "name": "stdout",
     "output_type": "stream",
     "text": [
      "23.4 ms ± 3.22 ms per loop (mean ± std. dev. of 7 runs, 10 loops each)\n",
      "4.89 µs ± 561 ns per loop (mean ± std. dev. of 7 runs, 100000 loops each)\n"
     ]
    }
   ],
   "source": [
    " \n",
    "def fft(x):\n",
    "    N = len(x)\n",
    "    if np.log2(N) % 1 > 0:\n",
    "        print('не является степенью 2')\n",
    "    if N <= 1: \n",
    "        return x\n",
    "    even = fft(x[0::2])\n",
    "    odd = fft(x[1::2])\n",
    "    S1 = []\n",
    "    S2 = []\n",
    "    for k in range(N//2):\n",
    "        t = np.exp(-2j*np.pi*k/N)*odd[k]\n",
    "        s1 = even[k] + t \n",
    "        s2 = even[k] - t\n",
    "        S1.append(s1)\n",
    "        S2.append(s2)\n",
    "    return S1 + S2\n",
    "\n",
    "\n",
    "x = np.random.random(1024)\n",
    "np.allclose(fft((x)), np.fft.fft(x))\n",
    "%timeit fft(x)\n",
    "%timeit np.fft.fft(x)"
   ]
  },
  {
   "cell_type": "markdown",
   "metadata": {},
   "source": [
    "Видно, что с помощью рекурсивного алгоритма мы ускоролись на два порядка, но все равно медлено."
   ]
  },
  {
   "cell_type": "code",
   "execution_count": 40,
   "metadata": {},
   "outputs": [
    {
     "name": "stdout",
     "output_type": "stream",
     "text": [
      "26.3 ms ± 1.98 ms per loop (mean ± std. dev. of 7 runs, 10 loops each)\n",
      "5.25 µs ± 846 ns per loop (mean ± std. dev. of 7 runs, 100000 loops each)\n"
     ]
    }
   ],
   "source": [
    "def ifft(t):\n",
    "    N = len(t)\n",
    "    if N <= 1: \n",
    "        return t\n",
    "    even = fft(t[0::2])\n",
    "    odd = fft(t[1::2])\n",
    "    S1 = []\n",
    "    S2 = []\n",
    "    for k in range(N//2):\n",
    "        x = np.exp(-2j*np.pi*k/N)*odd[k]\n",
    "        s1 = np.conjugate(even[k] + x)\n",
    "        s2 = np.conjugate(even[k] - x)\n",
    "        S1.append(s1/N)\n",
    "        S2.append(s2/N)\n",
    "    return S1+ S2\n",
    "\n",
    "np.allclose(ifft(x), np.fft.ifft(x))\n",
    "%timeit ifft(x)\n",
    "%timeit np.fft.fft(x)"
   ]
  },
  {
   "cell_type": "markdown",
   "metadata": {},
   "source": [
    "numpy молодец."
   ]
  }
 ],
 "metadata": {
  "kernelspec": {
   "display_name": "Python 3",
   "language": "python",
   "name": "python3"
  },
  "language_info": {
   "codemirror_mode": {
    "name": "ipython",
    "version": 3
   },
   "file_extension": ".py",
   "mimetype": "text/x-python",
   "name": "python",
   "nbconvert_exporter": "python",
   "pygments_lexer": "ipython3",
   "version": "3.6.5"
  }
 },
 "nbformat": 4,
 "nbformat_minor": 2
}
