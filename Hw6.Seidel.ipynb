{
 "cells": [
  {
   "cell_type": "markdown",
   "metadata": {},
   "source": [
    "# Метод Зейделя"
   ]
  },
  {
   "cell_type": "markdown",
   "metadata": {},
   "source": [
    "Возьмём систему: ${\\displaystyle A{\\vec {x}}={\\vec {b}}}$, \n",
    " где $ {\\displaystyle A=\\left({\\begin{array}{ccc}a_{11}&\\ldots &a_{1n}\\\\\\vdots &\\ddots &\\vdots \\\\a_{n1}&\\ldots &a_{nn}\\end{array}}\\right),\\quad {\\vec {b}}=\\left({\\begin{array}{c}b_{1}\\\\\\vdots \\\\b_{n}\\end{array}}\\right)}\\\\\n",
    "$\n"
   ]
  },
  {
   "cell_type": "markdown",
   "metadata": {},
   "source": [
    "Итерационный процесс в методе Гаусса — Зейделя строится по формуле\n",
    "\n",
    "${\\displaystyle (\\mathrm {L} +\\mathrm {D} ){\\vec {x}}^{(k+1)}=-\\mathrm {U} {\\vec {x}}^{(k)}+{\\vec {b}},\\quad k=0,1,2,\\ldots }$\n",
    "\n",
    " где в принятых обозначениях ${\\displaystyle \\mathrm {D} }$ означает матрицу, у которой на главной диагонали стоят соответствующие элементы матрицы ${\\displaystyle A}$, а все остальные нули; тогда как матрицы ${\\displaystyle \\mathrm {U} } $ и ${\\displaystyle \\mathrm {L} } $ содержат верхнюю и нижнюю треугольные части ${\\displaystyle A} $, на главной диагонали которых нули."
   ]
  },
  {
   "cell_type": "code",
   "execution_count": 18,
   "metadata": {},
   "outputs": [
    {
     "name": "stdout",
     "output_type": "stream",
     "text": [
      "[[0.74790552 0.10873232 0.00098478 0.29656331]\n",
      " [0.0019685  0.32063765 0.09247783 0.59127811]\n",
      " [0.19194663 0.91172461 0.88880116 0.48760579]\n",
      " [0.27527877 0.10268944 0.09207659 0.85574278]]\n"
     ]
    }
   ],
   "source": [
    "import numpy as np\n",
    "\n",
    "rndm = np.random.RandomState(140)\n",
    "n = 4\n",
    "A = rndm.uniform(size=(n, n)) \n",
    "b = rndm.uniform(size=n)\n",
    "print(A)"
   ]
  },
  {
   "cell_type": "markdown",
   "metadata": {},
   "source": [
    "\n",
    "Метод будет сходиться, когда все собственные значения матрицы $ L^{-1}U < 1$ по модулю."
   ]
  },
  {
   "cell_type": "code",
   "execution_count": 19,
   "metadata": {},
   "outputs": [
    {
     "name": "stdout",
     "output_type": "stream",
     "text": [
      "[ 0.        +0.j         -0.21383648+0.26284027j -0.21383648-0.26284027j\n",
      " -0.06445329+0.j        ]\n"
     ]
    },
    {
     "data": {
      "text/plain": [
       "True"
      ]
     },
     "execution_count": 19,
     "metadata": {},
     "output_type": "execute_result"
    }
   ],
   "source": [
    "\n",
    "x = np.ones(n)\n",
    "U = np.triu(A, k=1)\n",
    "L = np.tril(A)\n",
    "G = np.linalg.inv(L)\n",
    "n = 20  \n",
    "\n",
    "def resh(a, t, x):\n",
    "    G_1 = ( G @ U)\n",
    "    eigen = np.linalg.eig(G_1)[0]\n",
    "    if np.fabs(np.max(np.abs(eigen)))<1: \n",
    "        print(eig)\n",
    "        for _ in range(t):\n",
    "            x = np.dot(G, b - np.dot(U, x))\n",
    "    else:\n",
    "            print('расходится')\n",
    "    return x  \n",
    "\n",
    "np.allclose(resh(A, n, x), np.linalg.solve(A,b))"
   ]
  }
 ],
 "metadata": {
  "kernelspec": {
   "display_name": "Python 3",
   "language": "python",
   "name": "python3"
  },
  "language_info": {
   "codemirror_mode": {
    "name": "ipython",
    "version": 3
   },
   "file_extension": ".py",
   "mimetype": "text/x-python",
   "name": "python",
   "nbconvert_exporter": "python",
   "pygments_lexer": "ipython3",
   "version": "3.6.5"
  }
 },
 "nbformat": 4,
 "nbformat_minor": 2
}
