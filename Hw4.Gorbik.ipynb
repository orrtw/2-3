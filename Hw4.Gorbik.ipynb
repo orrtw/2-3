{
 "cells": [
  {
   "cell_type": "markdown",
   "metadata": {},
   "source": [
    "# Квантмех¿"
   ]
  },
  {
   "cell_type": "code",
   "execution_count": 45,
   "metadata": {},
   "outputs": [],
   "source": [
    "import numpy as np\n",
    "import matplotlib.pyplot as plt\n",
    "\n",
    "n = 100\n",
    "h=2\n",
    "a = 10\n"
   ]
  },
  {
   "cell_type": "markdown",
   "metadata": {},
   "source": [
    "Нас не особо волнуют значения, а важн только вид зависимости, так что все константы будем считать единицами.\n",
    "Матрица для простой ямы:"
   ]
  },
  {
   "cell_type": "code",
   "execution_count": 46,
   "metadata": {},
   "outputs": [
    {
     "name": "stdout",
     "output_type": "stream",
     "text": [
      "[[ 0.  0.  0. ...  0.  0.  0.]\n",
      " [ 1. -2.  1. ...  0.  0.  0.]\n",
      " [ 0.  1. -2. ...  0.  0.  0.]\n",
      " ...\n",
      " [ 0.  0.  0. ... -2.  1.  0.]\n",
      " [ 0.  0.  0. ...  1. -2.  1.]\n",
      " [ 0.  0.  0. ...  0.  0.  0.]]\n"
     ]
    }
   ],
   "source": [
    "def matr(n):\n",
    "    A = np.zeros((n,n))\n",
    "#    A[0,0] = 1000\n",
    "#    A[n-1, n-1] = 1000\n",
    "    for i in range (1, n-1):\n",
    "        for j in range(n):\n",
    "            if i == j:\n",
    "                A[i, j] = -2\n",
    "            if j == i-1:\n",
    "                A[i,j] = 1\n",
    "            if j == i +1:\n",
    "                A[i,j] = 1\n",
    "    return A\n",
    "\n",
    "print(matr(n))\n",
    "    \n",
    "L = matr(n)"
   ]
  },
  {
   "cell_type": "markdown",
   "metadata": {},
   "source": [
    "Добавка, которая изменяет потенциал и новая матрица:"
   ]
  },
  {
   "cell_type": "code",
   "execution_count": 47,
   "metadata": {
    "scrolled": true
   },
   "outputs": [
    {
     "name": "stdout",
     "output_type": "stream",
     "text": [
      "[[ 0.          0.          0.         ...  0.          0.\n",
      "   0.        ]\n",
      " [ 1.         -1.97390174  1.         ...  0.          0.\n",
      "   0.        ]\n",
      " [ 0.          1.         -1.94730815 ...  0.          0.\n",
      "   0.        ]\n",
      " ...\n",
      " [ 0.          0.          0.         ... -1.94730815  1.\n",
      "   0.        ]\n",
      " [ 0.          0.          0.         ...  1.         -1.97390174\n",
      "   1.        ]\n",
      " [ 0.          0.          0.         ...  0.          0.\n",
      "   0.        ]]\n"
     ]
    }
   ],
   "source": [
    "def dobavka(L, h):\n",
    "    n = L.shape[0] - 1\n",
    "    sdvig =  - (1/(np.cosh(1))**2)*h\n",
    "    gorbik = [h*((1/(np.cosh(2 * i / n - 1))**2)) for i in range(n)]\n",
    "    gorbik.append(0)\n",
    "    gorbik = np.array(gorbik)\n",
    "    gorbik += sdvig \n",
    "    gorbik[-1] = 0\n",
    "    return L + np.diag(gorbik)\n",
    "\n",
    "print(dobavka(L, h))\n",
    "\n",
    "#print(np.linalg.eig(dobavka(L, h))[0])"
   ]
  },
  {
   "cell_type": "markdown",
   "metadata": {},
   "source": [
    "Построим график для энергии."
   ]
  },
  {
   "cell_type": "code",
   "execution_count": 48,
   "metadata": {},
   "outputs": [
    {
     "name": "stdout",
     "output_type": "stream",
     "text": [
      "None\n"
     ]
    },
    {
     "data": {
      "image/png": "[encoded data removed]",
      "text/plain": [
       "<Figure size 432x288 with 1 Axes>"
      ]
     },
     "metadata": {},
     "output_type": "display_data"
    }
   ],
   "source": [
    "\n",
    "def plot(n, h):\n",
    "    A = matr(n)\n",
    "    H = dobavka(L, h)\n",
    "    eigA = np.sort(np.linalg.eig(A)[0])\n",
    "    eigH = np.sort(np.linalg.eig(H)[0])\n",
    "    plt.figure()\n",
    "    plt.plot(eigA, color = 'purple')\n",
    "    plt.plot(eigH, color = 'green')\n",
    "\n",
    "    \n",
    "print(plot(n, h))"
   ]
  },
  {
   "cell_type": "markdown",
   "metadata": {},
   "source": [
    "При появлении горба энергия частицы становится больше. "
   ]
  }
 ],
 "metadata": {
  "kernelspec": {
   "display_name": "Python 3",
   "language": "python",
   "name": "python3"
  },
  "language_info": {
   "codemirror_mode": {
    "name": "ipython",
    "version": 3
   },
   "file_extension": ".py",
   "mimetype": "text/x-python",
   "name": "python",
   "nbconvert_exporter": "python",
   "pygments_lexer": "ipython3",
   "version": "3.6.5"
  }
 },
 "nbformat": 4,
 "nbformat_minor": 2
}
