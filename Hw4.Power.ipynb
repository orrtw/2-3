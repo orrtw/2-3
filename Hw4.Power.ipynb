{
 "cells": [
  {
   "cell_type": "markdown",
   "metadata": {},
   "source": [
    "# I got that power"
   ]
  },
  {
   "cell_type": "markdown",
   "metadata": {},
   "source": [
    "Почти та же матрица, что и в первой части, но теперь с бесконечностями. И вызываю обратный гамильтониан, чтобы найти *основное* состояние."
   ]
  },
  {
   "cell_type": "code",
   "execution_count": 5,
   "metadata": {},
   "outputs": [],
   "source": [
    "import numpy as np\n",
    "\n",
    "n = 1000\n",
    "a = 5\n",
    "p = 1/n\n",
    "\n",
    "def matr(n):\n",
    "    A = np.zeros((n,n))\n",
    "    A[0,0] = np.inf\n",
    "    A[n - 1, n - 1] = np.inf\n",
    "    for i in range (1, n - 1):\n",
    "        for j in range(n):\n",
    "            if i == j:\n",
    "                A[i, j] = - 2\n",
    "            if j == i - 1:\n",
    "                A[i,j] = 1\n",
    "            if j == i + 1:\n",
    "                A[i,j] = 1\n",
    "    return A\n",
    "\n",
    "L = matr(n)\n",
    "\n",
    "def dobavka(L, height):\n",
    "    n = L.shape[0] - 1\n",
    "    sdvig =  - (1/(np.cosh(1))**2)*height\n",
    "    gorbik = [height*((1/(np.cosh(2 * i / n - 1))**2)) for i in range(n)]\n",
    "    gorbik.append(0)\n",
    "    gorbik = np.array(gorbik)\n",
    "    gorbik += sdvig \n",
    "    gorbik[-1] = 0\n",
    "    return np.linalg.inv(-(L/p**2 + np.diag(gorbik)))"
   ]
  },
  {
   "cell_type": "markdown",
   "metadata": {},
   "source": [
    "power iterations"
   ]
  },
  {
   "cell_type": "code",
   "execution_count": 8,
   "metadata": {},
   "outputs": [
    {
     "name": "stdout",
     "output_type": "stream",
     "text": [
      "3.1447360951694714\n",
      "3.114607796165738\n",
      "2.990972998822\n",
      "2.2713704919732556\n"
     ]
    }
   ],
   "source": [
    "def power(L, n):\n",
    "    vec_k = np.random.rand(L.shape[1])\n",
    "    for _ in range(n):\n",
    "        \n",
    "        vec_k1 = np.dot(L, vec_k)\n",
    "        vec_k1_norm = np.linalg.norm(vec_k1)\n",
    "        vec_k = vec_k1 / vec_k1_norm\n",
    "        \n",
    "    E = (vec_k.T @ L @ vec_k) / (vec_k.T @ vec_k)\n",
    "    return E\n",
    "\n",
    "print(1/np.sqrt(power(dobavka(L, 0),n)))\n",
    "print(1/np.sqrt(power(dobavka(L, 0.4),n)))\n",
    "print(1/np.sqrt(power(dobavka(L, 2),n)))\n",
    "print(1/np.sqrt(power(dobavka(L, 10),n)))"
   ]
  },
  {
   "cell_type": "markdown",
   "metadata": {},
   "source": [
    "При увеличении высоты горбика, основное положение начинает отличаться от случая с просто ямой."
   ]
  }
 ],
 "metadata": {
  "kernelspec": {
   "display_name": "Python 3",
   "language": "python",
   "name": "python3"
  },
  "language_info": {
   "codemirror_mode": {
    "name": "ipython",
    "version": 3
   },
   "file_extension": ".py",
   "mimetype": "text/x-python",
   "name": "python",
   "nbconvert_exporter": "python",
   "pygments_lexer": "ipython3",
   "version": "3.6.5"
  }
 },
 "nbformat": 4,
 "nbformat_minor": 2
}
