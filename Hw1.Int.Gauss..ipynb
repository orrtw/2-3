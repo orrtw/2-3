{
 "cells": [
  {
   "cell_type": "markdown",
   "metadata": {},
   "source": [
    "# Численное интегрирование. Метод Гаусса."
   ]
  },
  {
   "cell_type": "markdown",
   "metadata": {},
   "source": [
    "Вызываем из библиотеки функцию поиска корней полинома Лежандра, так как вес у функции 1."
   ]
  },
  {
   "cell_type": "code",
   "execution_count": 3,
   "metadata": {},
   "outputs": [],
   "source": [
    "import numpy as np\n",
    "from scipy.special import roots_legendre"
   ]
  },
  {
   "cell_type": "markdown",
   "metadata": {},
   "source": [
    "Задаем нашу функцию и считаем ее интеграл. Изначатьно пределы интегрирования были (0,2), сделаем замену переменной x=t+1, при этом пределы изменятся на (-1,1)."
   ]
  },
  {
   "cell_type": "code",
   "execution_count": 4,
   "metadata": {},
   "outputs": [],
   "source": [
    "def f(t):\n",
    "    f = np.exp(0.5 * (t + 1)) * (2 + np.cos(1 + np.sqrt (t + 1)))/np.sqrt(1 + 0.5 * (t + 1))\n",
    "    return f\n",
    "    \n",
    "\n",
    "def integral(f, n):\n",
    "    roots, weights = roots_legendre(n)\n",
    "    i = np.sum(f(roots)*weights)\n",
    "    return i"
   ]
  },
  {
   "cell_type": "markdown",
   "metadata": {},
   "source": [
    "Зададим функцию, которая подбирает количество узлов для нужной нам точности."
   ]
  },
  {
   "cell_type": "code",
   "execution_count": 5,
   "metadata": {},
   "outputs": [
    {
     "name": "stdout",
     "output_type": "stream",
     "text": [
      "(4.423359851413735, 30)\n"
     ]
    }
   ],
   "source": [
    "def chotko(f, eps):\n",
    "    n = 1\n",
    "    start = 0\n",
    "    while True:\n",
    "        n += 1\n",
    "        end = integral(f, n)\n",
    "        if abs(start-end)<eps:\n",
    "            break\n",
    "        start = end\n",
    "    return end, n\n",
    "print(chotko(f, 1e-6))"
   ]
  },
  {
   "cell_type": "raw",
   "metadata": {},
   "source": [
    "Результаты для разной точности:(значение интеграла, количество узлов)"
   ]
  },
  {
   "cell_type": "code",
   "execution_count": 7,
   "metadata": {},
   "outputs": [
    {
     "name": "stdout",
     "output_type": "stream",
     "text": [
      "(4.423322709020909, 17)\n",
      "(4.4233681918554995, 93)\n",
      "(4.423368481955281, 293)\n"
     ]
    }
   ],
   "source": [
    "print(chotko(f, 1e-5))\n",
    "print(chotko(f, 1e-8))\n",
    "print(chotko(f, 1e-10))"
   ]
  }
 ],
 "metadata": {
  "kernelspec": {
   "display_name": "Python 3",
   "language": "python",
   "name": "python3"
  },
  "language_info": {
   "codemirror_mode": {
    "name": "ipython",
    "version": 3
   },
   "file_extension": ".py",
   "mimetype": "text/x-python",
   "name": "python",
   "nbconvert_exporter": "python",
   "pygments_lexer": "ipython3",
   "version": "3.6.5"
  }
 },
 "nbformat": 4,
 "nbformat_minor": 2
}
