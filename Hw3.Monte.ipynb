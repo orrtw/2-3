{
 "cells": [
  {
   "cell_type": "markdown",
   "metadata": {},
   "source": [
    "# Метод Монте-Карло "
   ]
  },
  {
   "cell_type": "markdown",
   "metadata": {},
   "source": [
    "Мой интеграл: $$ \\sqrt{\\frac{x}{a}} + \\sqrt{\\frac{y}{b}} + \\sqrt{\\frac{z}{c}} < 1 $$\n"
   ]
  },
  {
   "cell_type": "code",
   "execution_count": 18,
   "metadata": {},
   "outputs": [
    {
     "name": "stdout",
     "output_type": "stream",
     "text": [
      "0.24125\n"
     ]
    }
   ],
   "source": [
    "import numpy as np\n",
    "#import matplotlib.pyplot as plt\n",
    "#from mpl_toolkits.mplot3d import Axes3D\n",
    "#import pylab\n",
    "import sobol_seq\n",
    "\n",
    "n = 100000\n",
    "k = 5\n",
    "a, b, c,  = 2, 3, 4\n",
    "\n",
    "x0 = np.random.uniform(0, 5, size=n) \n",
    "y0 = np.random.uniform(0, 5, size=n) \n",
    "z0 = np.random.uniform(0, 5, size=n) \n",
    "\n",
    "def monte(x,y,z, a, b, c, k, n):\n",
    "    s = 0\n",
    "    for i in range(n):\n",
    "        if np.sqrt(x[i]/a)+np.sqrt(y[i]/b)+np.sqrt(z[i]/c) <=1:\n",
    "            s += 1\n",
    "    return s*k**3/n\n",
    "\n",
    "print(monte(x0, y0, z0, a, b, c, k, n))"
   ]
  },
  {
   "cell_type": "code",
   "execution_count": 19,
   "metadata": {},
   "outputs": [
    {
     "name": "stdout",
     "output_type": "stream",
     "text": [
      "0.2675\n"
     ]
    }
   ],
   "source": [
    "Sobol = k*(sobol_seq.i4_sobol_generate(3, n))\n",
    "x2 = Sobol[:, 0]\n",
    "y2 = Sobol[:, 1]\n",
    "z2 = Sobol[:, 2]\n",
    "\n",
    "def sobol(x,y,z, a, b, c, k, n):\n",
    "    w = 0\n",
    "    for i in range(n):\n",
    "        if np.sqrt(x[i]/a)+np.sqrt(y[i]/b)+np.sqrt(z[i]/c) <=1:\n",
    "            w += 1\n",
    "    return w*k**3/n \n",
    "print(sobol(x2,y2,z2, a, b, c, k, n))"
   ]
  },
  {
   "cell_type": "code",
   "execution_count": null,
   "metadata": {},
   "outputs": [],
   "source": [
    "Математика посчитала 0.202096"
   ]
  }
 ],
 "metadata": {
  "kernelspec": {
   "display_name": "Python 3",
   "language": "python",
   "name": "python3"
  },
  "language_info": {
   "codemirror_mode": {
    "name": "ipython",
    "version": 3
   },
   "file_extension": ".py",
   "mimetype": "text/x-python",
   "name": "python",
   "nbconvert_exporter": "python",
   "pygments_lexer": "ipython3",
   "version": "3.6.5"
  }
 },
 "nbformat": 4,
 "nbformat_minor": 2
}
