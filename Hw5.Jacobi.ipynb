{
 "cells": [
  {
   "cell_type": "markdown",
   "metadata": {},
   "source": [
    "# Якоби "
   ]
  },
  {
   "cell_type": "code",
   "execution_count": 4,
   "metadata": {},
   "outputs": [
    {
     "name": "stdout",
     "output_type": "stream",
     "text": [
      "Jacobi\n",
      "[ 5.96402608  8.14343525 10.81906093 14.07347775]\n",
      "numpy.linalg\n",
      "[ 5.96402608  8.14343525 10.81906092 14.07347775]\n"
     ]
    }
   ],
   "source": [
    "import numpy as np\n",
    "from numpy.testing import assert_allclose\n",
    "\n",
    "\n",
    "a = np.array([[10., -1., 2., 0.0],\n",
    "              [-1., 11., -1., 3.],\n",
    "              [2., -1., 10., -1.],\n",
    "              [0.0, 3., -1., 8.]])\n",
    "\n",
    "\n",
    "def Jacobi(a, num, eps):\n",
    "    n = np.shape(a)[0]\n",
    "    for _ in range (0, num*n):\n",
    "        eps1 = np.copy(eps)\n",
    "        for i in range(0,n):\n",
    "            for j in range(i+1,n):\n",
    "                if(np.abs(a[i,j]) > eps1):\n",
    "                    eps1 = np.abs(a[i,j])\n",
    "                    if a[j,j] == a[i,i]:\n",
    "                        t = np.pi/4\n",
    "                    else:\n",
    "                        tan = 2 * a[i,j] / (a[j,j] - a[i,i])\n",
    "                        t =  0.5 * np.arctan(tan)\n",
    "                    def G(a, i, j, t):\n",
    "                        G = np.eye(n)\n",
    "                        G[i,i] = G[j,j] =  np.cos(t)\n",
    "                        G[i,j] = -np.sin(t)\n",
    "                        G[j,i] = np.sin(t)\n",
    "                        return G\n",
    "                    #print(G(a, i, j, t))\n",
    "                    G = G(a, i, j, t)\n",
    "                    a = G @ a @ G.T\n",
    "    return np.sort(np.diagonal(a))\n",
    " \n",
    "\n",
    "\n",
    "assert_allclose(Jacobi(a,2, 1e-9), np.sort(np.linalg.eig(a)[0]))\n",
    "print('Jacobi', Jacobi(a,2, 1e-9), 'numpy.linalg', np.sort(np.linalg.eig(a)[0]), sep = '\\n')"
   ]
  }
 ],
 "metadata": {
  "kernelspec": {
   "display_name": "Python 3",
   "language": "python",
   "name": "python3"
  },
  "language_info": {
   "codemirror_mode": {
    "name": "ipython",
    "version": 3
   },
   "file_extension": ".py",
   "mimetype": "text/x-python",
   "name": "python",
   "nbconvert_exporter": "python",
   "pygments_lexer": "ipython3",
   "version": "3.6.5"
  }
 },
 "nbformat": 4,
 "nbformat_minor": 2
}
