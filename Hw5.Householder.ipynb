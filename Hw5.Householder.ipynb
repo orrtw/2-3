{
 "cells": [
  {
   "cell_type": "markdown",
   "metadata": {},
   "source": [
    "# Part I. Construct a Householder reflection of a vector."
   ]
  },
  {
   "attachments": {
    "image.png": {
     "image/png": "[encoded data removed]"
    }
   },
   "cell_type": "markdown",
   "metadata": {},
   "source": [
    "Given a vector $\\mathbf{x}$, and a plane with a normal vector $\\mathbf{u}$, the Householder transformation reflects $\\mathbf{x}$ about the plane.\n",
    "\n",
    "The matrix of the Householder transformation is\n",
    "\n",
    "$$\n",
    "\\mathbf{H} = \\mathbf{1} - 2 \\mathbf{u} \\mathbf{u}^T\n",
    "$$\n",
    "\n",
    "So we have $H=1−2uuT$:\n",
    "\n",
    "this is reflection across the plane orthogonal to $v$\n",
    "\n",
    "suppose we have some vector $x$ and want to reflect it such that it becomes parallel to some unit vector $y$\n",
    "![image.png](attachment:image.png)\n",
    "here we want to reflect around the place that is between $y$ and $x$ - that bisects the angle between them\n",
    "\n",
    "the vector orthogonal to this place is $x−∥x∥y$\n",
    "\n",
    "so let $u=x−∥x∥y$ and $v=\\frac{u}{∥u∥}$\n",
    "\n"
   ]
  },
  {
   "cell_type": "code",
   "execution_count": 21,
   "metadata": {},
   "outputs": [],
   "source": [
    "import numpy as np\n",
    "\n",
    "from numpy.testing import assert_allclose\n",
    "\n",
    "\n",
    "def householder(vec):\n",
    "    vec = np.asarray(vec, dtype=float)\n",
    "    if vec.ndim != 1:\n",
    "        raise ValueError(\"vec.ndim = %s, expected 1\" % vec.ndim)\n",
    "    y = np.zeros_like(vec)\n",
    "    norma = np.linalg.norm(vec)\n",
    "    y[0] = norma\n",
    "    rho = -np.sign(vec[0])\n",
    "    vec1 = vec[0] + rho*norma\n",
    "    v = vec /vec1\n",
    "    v[0] = 1\n",
    "    v2 = np.conjugate(v)\n",
    "    H = np.eye(vec.shape[0])\n",
    "    H -= (2 / (v @ v2) * np.outer(v , v2))\n",
    "    return y, H\n",
    "\n",
    "v = np.array([1, 2, 3])\n",
    "v1, h = householder(v)\n",
    "print(householder(v))\n",
    "\n",
    "assert_allclose(np.dot(h, v1), v)\n",
    "assert_allclose(np.dot(h, v), v1)\n",
    "\n",
    "rndm = np.random.RandomState(1234)\n",
    "\n",
    "vec = rndm.uniform(size=7)\n",
    "v1, h = householder(vec)\n",
    "\n",
    "assert_allclose(np.dot(h, v1), vec)"
   ]
  },
  {
   "cell_type": "markdown",
   "metadata": {},
   "source": [
    "# Part II. Compute the QR decomposition of a matrix.\n",
    "\n",
    "Given a rectangular $m\\times n$ matrix $\\mathbf{A}$, construct a Householder reflector matrix $\\mathbf{H}_1$ which transforms the first column of $\\mathbf{A}$ (and call the result $\\mathbf{A}^{(1)}$)\n",
    "\n",
    "$$\n",
    "\\mathbf{H}_1 \\mathbf{A} =%\n",
    "\\begin{pmatrix}\n",
    "\\times & \\times & \\times & \\dots & \\times \\\\\n",
    "0      & \\times & \\times & \\dots & \\times \\\\\n",
    "0      & \\times & \\times & \\dots & \\times \\\\\n",
    "&& \\dots&& \\\\\n",
    "0      & \\times & \\times & \\dots & \\times \\\\\n",
    "\\end{pmatrix}%\n",
    "\\equiv \\mathbf{A}^{(1)}\\;.\n",
    "$$\n",
    "\n",
    "Now consider the lower-right submatrix of $\\mathbf{A}^{(1)}$, and construct a Householder reflector which annihilates the second column of $\\mathbf{A}$:\n",
    "\n",
    "$$\n",
    "\\mathbf{H}_2 \\mathbf{A}^{(1)} =%\n",
    "\\begin{pmatrix}\n",
    "\\times & \\times & \\times & \\dots & \\times \\\\\n",
    "0      & \\times & \\times & \\dots & \\times \\\\\n",
    "0      & 0      & \\times & \\dots & \\times \\\\\n",
    "&& \\dots&& \\\\\n",
    "0      & 0      & \\times & \\dots & \\times \\\\\n",
    "\\end{pmatrix}%\n",
    "\\equiv \\mathbf{A}^{(2)} \\;.\n",
    "$$\n",
    "\n",
    "Repeating the process $n-1$ times, we obtain\n",
    "\n",
    "$$\n",
    "\\mathbf{H}_{n-1} \\cdots \\mathbf{H}_2 \\mathbf{H}_1 \\mathbf{A} = \\mathbf{R} \\;,\n",
    "$$\n",
    "\n",
    "with $\\mathbf{R}$ an upper triangular matrix. Since each $\\mathbf{H}_k$ is orthogonal, so is their product. The inverse of an orthogonal matrix is orthogonal. Hence the process generates the $QR$ decomposition of $\\mathbf{A}$. "
   ]
  },
  {
   "cell_type": "code",
   "execution_count": 6,
   "metadata": {},
   "outputs": [
    {
     "name": "stdout",
     "output_type": "stream",
     "text": [
      "a [[0.19151945 0.62210877 0.43772774]\n",
      " [0.78535858 0.77997581 0.27259261]\n",
      " [0.27646426 0.80187218 0.95813935]\n",
      " [0.87593263 0.35781727 0.50099513]\n",
      " [0.68346294 0.71270203 0.37025075]]\n",
      "q*r [[0.19151945 0.62210877 0.43772774]\n",
      " [0.78535858 0.77997581 0.27259261]\n",
      " [0.27646426 0.80187218 0.95813935]\n",
      " [0.87593263 0.35781727 0.50099513]\n",
      " [0.68346294 0.71270203 0.37025075]]\n",
      "qq\n",
      "[[-0.13665049  0.53601299  0.09369752  0.661619   -0.49749149]\n",
      " [-0.56035895  0.0935397   0.53326881 -0.52477245 -0.34276292]\n",
      " [-0.19725922  0.65948912 -0.60068463 -0.37879015  0.14784752]\n",
      " [-0.62498418 -0.50418303 -0.52144688  0.18967657 -0.21750907]\n",
      " [-0.48765568  0.12171264  0.27224305  0.32774225  0.75222783]]\n",
      "q\n",
      "[[ 0.13665049  0.53601299  0.09369752  0.51365394  0.64915107]\n",
      " [ 0.56035895  0.0935397   0.53326881 -0.59459457  0.19831755]\n",
      " [ 0.19725922  0.65948912 -0.60068463 -0.32884957 -0.23916277]\n",
      " [ 0.62498418 -0.50418303 -0.52144688  0.12824695  0.25853456]\n",
      " [ 0.48765568  0.12171264  0.27224305  0.50796418 -0.64438659]]\n",
      "rr\n",
      "[[-1.40152769 -1.2514379  -0.89523615]\n",
      " [ 0.          0.84158252  0.68447942]\n",
      " [ 0.          0.         -0.5496046 ]\n",
      " [ 0.          0.          0.        ]\n",
      " [ 0.          0.          0.        ]]\n",
      "r\n",
      "[[ 1.40152769  1.2514379   0.89523615]\n",
      " [ 0.          0.84158252  0.68447942]\n",
      " [ 0.          0.         -0.5496046 ]\n",
      " [ 0.         -0.          0.        ]\n",
      " [ 0.          0.         -0.        ]]\n"
     ]
    }
   ],
   "source": [
    "import numpy as np\n",
    "from numpy.testing import assert_allclose\n",
    "\n",
    "def householder(vec):\n",
    "    norma = np.linalg.norm(vec)\n",
    "    rho = -np.sign(vec[0])\n",
    "    vec1 = vec[0] + rho*norma\n",
    "    v = vec /vec1\n",
    "    v[0] = 1\n",
    "    v2 = np.conjugate(v)\n",
    "    H = np.eye(vec.shape[0])\n",
    "    H -= (2 / np.dot(v, v2)) * np.outer(v , v2)\n",
    "    return H\n",
    "\n",
    "def qr_decomp(a):\n",
    "    a1 = np.array(a, copy=True, dtype=float)\n",
    "    m, n = a1.shape\n",
    "    Q = np.eye(m)\n",
    "    for i in range(n - (m == n)):\n",
    "        H = np.eye(m)\n",
    "        H[i:, i:] = householder(a1[i:, i])\n",
    "        Q = np.dot(Q, H)\n",
    "        a1 = np.dot(H, a1)\n",
    "    return Q, a1\n",
    "\n",
    "\n",
    "np.set_printoptions(suppress=True)\n",
    "# Test (marked)\n",
    "\n",
    "rndm = np.random.RandomState(1234)\n",
    "a = rndm.uniform(size=(5, 3))\n",
    "q, r = qr_decomp(a)\n",
    "\n",
    "# test that Q is indeed orthogonal\n",
    "assert_allclose(np.dot(q, q.T), np.eye(5), atol=1e-10)\n",
    "\n",
    "# test the decomposition itself\n",
    "assert_allclose(np.dot(q, r), a)\n",
    "\n",
    "from scipy.linalg import qr\n",
    "qq, rr = qr(a)\n",
    "\n",
    "assert_allclose(np.dot(qq, rr), a)\n",
    "print('a', a)\n",
    "print('q*r', q @ r)\n",
    "print('qq', qq, 'q', qr_decomp(a)[0], sep = '\\n')\n",
    "print('rr', rr, 'r', qr_decomp(a)[1], sep = '\\n')"
   ]
  },
  {
   "cell_type": "markdown",
   "metadata": {},
   "source": [
    "В матрицах $q$, $qq$ отличаются последние два столбца.Также матрица $r$ не всегда совпадает в знаках с $rr$, но это не сильно портит картину, потому что суммарно эти различия дают близкий к правильному ответ. Не будем трогать, пока работает. "
   ]
  },
  {
   "cell_type": "markdown",
   "metadata": {},
   "source": [
    "# Part III. Avoid forming Householder matrices explicitly."
   ]
  },
  {
   "cell_type": "markdown",
   "metadata": {},
   "source": [
    "Note the special structure of the Householder matrices: A reflector $\\mathbf{H}$ is completely specified by a reflection vector $\\mathbf{u}$. Also note that the computational cost of applying a reflector to a matrix strongly depends on the order of operations:\n",
    "\n",
    "$$\n",
    "\\left( \\mathbf{u} \\mathbf{u}^T \\right) \\mathbf{A}  \\qquad \\textrm{is } O(m^2 n)\\;,\n",
    "$$\n",
    "while\n",
    "$$\n",
    "\\mathbf{u} \\left( \\mathbf{u}^T \\mathbf{A} \\right) \\qquad \\textrm{is } O(mn)\n",
    "$$\n",
    "\n",
    "Thus, it seems to make sense to *avoid* forming the $\\mathbf{H}$ matrices. Instead, one stores the reflection vectors, $\\mathbf{u}$, themselves, and provides a way of multiplying an arbitrary matrix by $\\mathbf{Q}^T$, e.g., as a standalone function (or a class)."
   ]
  },
  {
   "cell_type": "markdown",
   "metadata": {},
   "source": [
    "Write a function which constructs the `QR` decomposition of a matrix *without ever forming the* $\\mathbf{H}$ matrices, and returns the $\\mathbf{R}$ matrix and reflection vectors. Write a second function, which uses the reflection vertices to multiply a matrix with $\\mathbf{Q}^T$. Make sure to include enough comments for a marker to follow your implementation, and add tests."
   ]
  },
  {
   "cell_type": "code",
   "execution_count": 20,
   "metadata": {},
   "outputs": [
    {
     "name": "stdout",
     "output_type": "stream",
     "text": [
      "a1 [[0.19309053 0.43785882 0.24195758 0.68222689]\n",
      " [0.25292772 0.81530569 0.16484787 0.62843674]\n",
      " [0.39824171 0.44045427 0.58431464 0.84405454]\n",
      " [0.71333229 0.85183446 0.66859058 0.9151534 ]\n",
      " [0.38771601 0.81479589 0.37848176 0.56079988]\n",
      " [0.18403233 0.14996287 0.10894487 0.71806389]]\n",
      "rr1\n",
      "[[-1.45603939 -0.77072287 -0.99115915 -0.93020923]\n",
      " [ 0.          1.0713494   1.02536727  0.52485429]\n",
      " [ 0.          0.         -0.71936656 -0.09448287]\n",
      " [ 0.          0.          0.          0.64775259]\n",
      " [ 0.          0.          0.          0.        ]]\n",
      "r\n",
      "[[ 1.45603939  0.77072287  0.99115915  0.93020923]\n",
      " [ 0.          1.0713494   1.02536727  0.52485429]\n",
      " [ 0.         -0.          0.71936656  0.09448287]\n",
      " [ 0.         -0.          0.          0.64775259]\n",
      " [ 0.         -0.         -0.         -0.        ]]\n"
     ]
    }
   ],
   "source": [
    "\n",
    "def without_h(a):\n",
    "    a1 = np.array(a, copy=True, dtype=float)\n",
    "    m, n = a1.shape\n",
    "    r = np.zeros_like(a1)\n",
    "    u_all = []\n",
    "    for i in range(0, n):\n",
    "        x = a1[i:, i]\n",
    "        y = np.zeros_like(x)\n",
    "        norma = np.linalg.norm(x)\n",
    "        y[0] = norma\n",
    "        u = (x - y)/np.linalg.norm(x - y)\n",
    "        u = np.array(u.reshape(1, x.shape[0]))\n",
    "        u_all.append(u)\n",
    "        a1[i:, i:] = a1[i:, i:] - 2*(u.T @ u @ a1[i:, i:])\n",
    "        r = a1\n",
    "    return r, u_all\n",
    "\n",
    "a1 = np.array(b, copy=True, dtype=float)\n",
    "b = np.random.uniform(size=(5, 4))\n",
    "qq1, rr1 = qr(b)\n",
    "\n",
    "print('a1', a1)\n",
    "print('rr1', rr1, 'r', without_h(b)[0], sep = '\\n')\n"
   ]
  }
 ],
 "metadata": {
  "kernelspec": {
   "display_name": "Python 3",
   "language": "python",
   "name": "python3"
  },
  "language_info": {
   "codemirror_mode": {
    "name": "ipython",
    "version": 3
   },
   "file_extension": ".py",
   "mimetype": "text/x-python",
   "name": "python",
   "nbconvert_exporter": "python",
   "pygments_lexer": "ipython3",
   "version": "3.6.5"
  }
 },
 "nbformat": 4,
 "nbformat_minor": 2
}
